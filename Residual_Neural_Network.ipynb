{
  "nbformat": 4,
  "nbformat_minor": 0,
  "metadata": {
    "colab": {
      "name": "Residual Neural Network.ipynb",
      "provenance": [],
      "mount_file_id": "1PVg1mji4g9-SVvWkEHWnhV4Kivhx51rq",
      "authorship_tag": "ABX9TyPQ+t8To806Rf9lyI7M2MKL",
      "include_colab_link": true
    },
    "kernelspec": {
      "name": "python3",
      "display_name": "Python 3"
    },
    "language_info": {
      "name": "python"
    }
  },
  "cells": [
    {
      "cell_type": "markdown",
      "metadata": {
        "id": "view-in-github",
        "colab_type": "text"
      },
      "source": [
        "<a href=\"https://colab.research.google.com/github/Zinwaiyan274/Waste-Classification/blob/main/Residual_Neural_Network.ipynb\" target=\"_parent\"><img src=\"https://colab.research.google.com/assets/colab-badge.svg\" alt=\"Open In Colab\"/></a>"
      ]
    },
    {
      "cell_type": "code",
      "execution_count": null,
      "metadata": {
        "id": "KXejfl5HHKI4"
      },
      "outputs": [],
      "source": [
        "from keras.preprocessing.image import ImageDataGenerator\n",
        "from tensorflow.keras.layers import Dense\n",
        "from tensorflow.keras.models import Sequential\n",
        "from tensorflow.keras.applications.resnet50 import ResNet50, preprocess_input\n",
        "from tensorflow.keras.optimizers import SGD\n",
        "from tensorflow.keras.callbacks import ModelCheckpoint\n",
        "import os\n",
        "import cv2\n",
        "import glob\n",
        "import numpy as np\n",
        "from keras.preprocessing.image import ImageDataGenerator\n",
        "from sklearn.model_selection import train_test_split"
      ]
    },
    {
      "cell_type": "code",
      "source": [
        "num_class = 5\n",
        "\n",
        "model = Sequential([ResNet50(include_top=False,\n",
        "                             weights='imagenet',\n",
        "                             pooling='avg'),\n",
        "                    Dense(num_class, activation='softmax')])\n",
        "\n",
        "model.layers[0].trainable = False"
      ],
      "metadata": {
        "colab": {
          "base_uri": "https://localhost:8080/"
        },
        "id": "kqzhlktiHLKk",
        "outputId": "2ecfd57a-75ed-4076-e5bb-b5b6a070bedb"
      },
      "execution_count": null,
      "outputs": [
        {
          "output_type": "stream",
          "name": "stdout",
          "text": [
            "Downloading data from https://storage.googleapis.com/tensorflow/keras-applications/resnet/resnet50_weights_tf_dim_ordering_tf_kernels_notop.h5\n",
            "94773248/94765736 [==============================] - 1s 0us/step\n",
            "94781440/94765736 [==============================] - 1s 0us/step\n"
          ]
        }
      ]
    },
    {
      "cell_type": "code",
      "source": [
        "lr = 0.01\n",
        "momentum = 0.001\n",
        "opt = SGD(learning_rate=lr, momentum=momentum)\n",
        "\n",
        "model.compile(optimizer=opt,\n",
        "              loss='categorical_crossentropy',\n",
        "              metrics=['accuracy'])\n",
        "\n",
        "model.summary()"
      ],
      "metadata": {
        "colab": {
          "base_uri": "https://localhost:8080/"
        },
        "id": "J2qs6p4SHLNS",
        "outputId": "8be7e36f-6529-46b1-849b-d881eca1f370"
      },
      "execution_count": null,
      "outputs": [
        {
          "output_type": "stream",
          "name": "stdout",
          "text": [
            "Model: \"sequential\"\n",
            "_________________________________________________________________\n",
            " Layer (type)                Output Shape              Param #   \n",
            "=================================================================\n",
            " resnet50 (Functional)       (None, 2048)              23587712  \n",
            "                                                                 \n",
            " dense (Dense)               (None, 5)                 10245     \n",
            "                                                                 \n",
            "=================================================================\n",
            "Total params: 23,597,957\n",
            "Trainable params: 10,245\n",
            "Non-trainable params: 23,587,712\n",
            "_________________________________________________________________\n"
          ]
        }
      ]
    },
    {
      "cell_type": "code",
      "source": [
        "data_path = \"/content/drive/MyDrive/II/Wai/Data set\"\n",
        "\n",
        "\n",
        "\n",
        "\n",
        "data_generator = ImageDataGenerator(preprocessing_function=preprocess_input)\n",
        "\n",
        "img_shape = (64,128)\n",
        "\n",
        "train_gen = data_generator.flow_from_directory(data_path + '/Train',\n",
        "                                               target_size=(64,128),\n",
        "                                               batch_size=64,\n",
        "                                               class_mode='categorical')\n",
        "\n",
        "val_gen = data_generator.flow_from_directory(data_path + '/val',\n",
        "                                             target_size=(64,128),\n",
        "                                             batch_size=64,\n",
        "                                             class_mode='categorical',\n",
        "                                             shuffle=False)\n",
        "\n",
        "test_gen = data_generator.flow_from_directory(data_path + '/Test',\n",
        "                                             target_size=(64,128),\n",
        "                                             batch_size=64,\n",
        "                                             class_mode='categorical',\n",
        "                                             shuffle=False)"
      ],
      "metadata": {
        "colab": {
          "base_uri": "https://localhost:8080/"
        },
        "id": "7csOD_gBHLQh",
        "outputId": "c5f06d69-31bd-4752-8d45-16bcb3fd9c8c"
      },
      "execution_count": null,
      "outputs": [
        {
          "output_type": "stream",
          "name": "stdout",
          "text": [
            "Found 5420 images belonging to 5 classes.\n",
            "Found 1241 images belonging to 5 classes.\n",
            "Found 1367 images belonging to 5 classes.\n"
          ]
        }
      ]
    },
    {
      "cell_type": "code",
      "source": [
        "from tensorflow.keras.callbacks import ModelCheckpoint"
      ],
      "metadata": {
        "id": "9Wn5fzYZHLTR"
      },
      "execution_count": null,
      "outputs": []
    },
    {
      "cell_type": "code",
      "source": [
        "n_epoch = 20\n",
        "\n",
        "model_name = 'resnet50_batch64_sgd01m001'\n",
        "checkpoint = ModelCheckpoint('./' +  model_name + '.h5',\n",
        "                             monitor='val_loss',\n",
        "                             save_best_only=True,\n",
        "                             verbose=1)\n",
        "\n"
      ],
      "metadata": {
        "id": "pb0SchvOHhrD"
      },
      "execution_count": null,
      "outputs": []
    },
    {
      "cell_type": "code",
      "source": [
        "history = model.fit_generator(train_gen,\n",
        "                              steps_per_epoch=train_gen.samples/train_gen.batch_size,\n",
        "                              validation_data=val_gen,\n",
        "                              validation_steps=val_gen.samples/val_gen.batch_size,\n",
        "                              epochs = n_epoch,\n",
        "                              callbacks= [checkpoint])"
      ],
      "metadata": {
        "colab": {
          "base_uri": "https://localhost:8080/"
        },
        "id": "WCMAQKneHhuF",
        "outputId": "48d00c63-3682-436b-8581-4191f2faf008"
      },
      "execution_count": null,
      "outputs": [
        {
          "output_type": "stream",
          "name": "stderr",
          "text": [
            "/usr/local/lib/python3.7/dist-packages/ipykernel_launcher.py:6: UserWarning: `Model.fit_generator` is deprecated and will be removed in a future version. Please use `Model.fit`, which supports generators.\n",
            "  \n"
          ]
        },
        {
          "output_type": "stream",
          "name": "stdout",
          "text": [
            "Epoch 1/20\n",
            "85/84 [==============================] - ETA: -4s - loss: 0.6712 - accuracy: 0.7983\n",
            "Epoch 1: val_loss improved from inf to 4.27529, saving model to ./resnet50_batch64_sgd01m001.h5\n",
            "84/84 [==============================] - 1583s 19s/step - loss: 0.6712 - accuracy: 0.7983 - val_loss: 4.2753 - val_accuracy: 0.2732\n",
            "Epoch 2/20\n",
            "85/84 [==============================] - ETA: 0s - loss: 0.3919 - accuracy: 0.8747\n",
            "Epoch 2: val_loss did not improve from 4.27529\n",
            "84/84 [==============================] - 161s 2s/step - loss: 0.3919 - accuracy: 0.8747 - val_loss: 4.4531 - val_accuracy: 0.2788\n",
            "Epoch 3/20\n",
            "85/84 [==============================] - ETA: 0s - loss: 0.3260 - accuracy: 0.8923\n",
            "Epoch 3: val_loss did not improve from 4.27529\n",
            "84/84 [==============================] - 162s 2s/step - loss: 0.3260 - accuracy: 0.8923 - val_loss: 4.5896 - val_accuracy: 0.2732\n",
            "Epoch 4/20\n",
            "85/84 [==============================] - ETA: 0s - loss: 0.2738 - accuracy: 0.9083\n",
            "Epoch 4: val_loss did not improve from 4.27529\n",
            "84/84 [==============================] - 162s 2s/step - loss: 0.2738 - accuracy: 0.9083 - val_loss: 4.6110 - val_accuracy: 0.2796\n",
            "Epoch 5/20\n",
            "85/84 [==============================] - ETA: 0s - loss: 0.2440 - accuracy: 0.9172\n",
            "Epoch 5: val_loss did not improve from 4.27529\n",
            "84/84 [==============================] - 160s 2s/step - loss: 0.2440 - accuracy: 0.9172 - val_loss: 4.6027 - val_accuracy: 0.2716\n",
            "Epoch 6/20\n",
            "85/84 [==============================] - ETA: 0s - loss: 0.2128 - accuracy: 0.9282\n",
            "Epoch 6: val_loss did not improve from 4.27529\n",
            "84/84 [==============================] - 162s 2s/step - loss: 0.2128 - accuracy: 0.9282 - val_loss: 4.8428 - val_accuracy: 0.2651\n",
            "Epoch 7/20\n",
            "85/84 [==============================] - ETA: 0s - loss: 0.1927 - accuracy: 0.9352\n",
            "Epoch 7: val_loss did not improve from 4.27529\n",
            "84/84 [==============================] - 160s 2s/step - loss: 0.1927 - accuracy: 0.9352 - val_loss: 4.8660 - val_accuracy: 0.2691\n",
            "Epoch 8/20\n",
            "85/84 [==============================] - ETA: 0s - loss: 0.1771 - accuracy: 0.9402\n",
            "Epoch 8: val_loss did not improve from 4.27529\n",
            "84/84 [==============================] - 161s 2s/step - loss: 0.1771 - accuracy: 0.9402 - val_loss: 4.8392 - val_accuracy: 0.2683\n",
            "Epoch 9/20\n",
            "85/84 [==============================] - ETA: 0s - loss: 0.1647 - accuracy: 0.9458\n",
            "Epoch 9: val_loss did not improve from 4.27529\n",
            "84/84 [==============================] - 162s 2s/step - loss: 0.1647 - accuracy: 0.9458 - val_loss: 4.9201 - val_accuracy: 0.2675\n",
            "Epoch 10/20\n",
            "85/84 [==============================] - ETA: 0s - loss: 0.1526 - accuracy: 0.9507\n",
            "Epoch 10: val_loss did not improve from 4.27529\n",
            "84/84 [==============================] - 160s 2s/step - loss: 0.1526 - accuracy: 0.9507 - val_loss: 5.0346 - val_accuracy: 0.2716\n",
            "Epoch 11/20\n",
            "85/84 [==============================] - ETA: 0s - loss: 0.1419 - accuracy: 0.9552\n",
            "Epoch 11: val_loss did not improve from 4.27529\n",
            "84/84 [==============================] - 162s 2s/step - loss: 0.1419 - accuracy: 0.9552 - val_loss: 5.1481 - val_accuracy: 0.2691\n",
            "Epoch 12/20\n",
            "85/84 [==============================] - ETA: 0s - loss: 0.1322 - accuracy: 0.9596\n",
            "Epoch 12: val_loss did not improve from 4.27529\n",
            "84/84 [==============================] - 160s 2s/step - loss: 0.1322 - accuracy: 0.9596 - val_loss: 5.2141 - val_accuracy: 0.2675\n",
            "Epoch 13/20\n",
            "85/84 [==============================] - ETA: 0s - loss: 0.1253 - accuracy: 0.9601\n",
            "Epoch 13: val_loss did not improve from 4.27529\n",
            "84/84 [==============================] - 162s 2s/step - loss: 0.1253 - accuracy: 0.9601 - val_loss: 5.3836 - val_accuracy: 0.2579\n",
            "Epoch 14/20\n",
            "85/84 [==============================] - ETA: 0s - loss: 0.1181 - accuracy: 0.9657\n",
            "Epoch 14: val_loss did not improve from 4.27529\n",
            "84/84 [==============================] - 161s 2s/step - loss: 0.1181 - accuracy: 0.9657 - val_loss: 5.3922 - val_accuracy: 0.2611\n",
            "Epoch 15/20\n",
            "85/84 [==============================] - ETA: 0s - loss: 0.1116 - accuracy: 0.9696\n",
            "Epoch 15: val_loss did not improve from 4.27529\n",
            "84/84 [==============================] - 159s 2s/step - loss: 0.1116 - accuracy: 0.9696 - val_loss: 5.3591 - val_accuracy: 0.2643\n",
            "Epoch 16/20\n",
            "85/84 [==============================] - ETA: 0s - loss: 0.1068 - accuracy: 0.9723\n",
            "Epoch 16: val_loss did not improve from 4.27529\n",
            "84/84 [==============================] - 161s 2s/step - loss: 0.1068 - accuracy: 0.9723 - val_loss: 5.4365 - val_accuracy: 0.2667\n",
            "Epoch 17/20\n",
            "85/84 [==============================] - ETA: 0s - loss: 0.1009 - accuracy: 0.9738\n",
            "Epoch 17: val_loss did not improve from 4.27529\n",
            "84/84 [==============================] - 161s 2s/step - loss: 0.1009 - accuracy: 0.9738 - val_loss: 5.4348 - val_accuracy: 0.2724\n",
            "Epoch 18/20\n",
            "85/84 [==============================] - ETA: 0s - loss: 0.0977 - accuracy: 0.9738\n",
            "Epoch 18: val_loss did not improve from 4.27529\n",
            "84/84 [==============================] - 160s 2s/step - loss: 0.0977 - accuracy: 0.9738 - val_loss: 5.5351 - val_accuracy: 0.2643\n",
            "Epoch 19/20\n",
            "85/84 [==============================] - ETA: 0s - loss: 0.0931 - accuracy: 0.9764\n",
            "Epoch 19: val_loss did not improve from 4.27529\n",
            "84/84 [==============================] - 162s 2s/step - loss: 0.0931 - accuracy: 0.9764 - val_loss: 5.5171 - val_accuracy: 0.2659\n",
            "Epoch 20/20\n",
            "85/84 [==============================] - ETA: 0s - loss: 0.0894 - accuracy: 0.9786\n",
            "Epoch 20: val_loss did not improve from 4.27529\n",
            "84/84 [==============================] - 160s 2s/step - loss: 0.0894 - accuracy: 0.9786 - val_loss: 5.5897 - val_accuracy: 0.2699\n"
          ]
        }
      ]
    },
    {
      "cell_type": "code",
      "source": [
        "model.save('./' +  model_name + '.h5')"
      ],
      "metadata": {
        "id": "bSeUXVTAHhwv"
      },
      "execution_count": null,
      "outputs": []
    }
  ]
}